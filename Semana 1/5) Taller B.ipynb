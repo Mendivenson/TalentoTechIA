{
 "cells": [
  {
   "cell_type": "markdown",
   "metadata": {
    "id": "wD_Nu1KXEC0b"
   },
   "source": [
    "**Practica Semana 1**\n",
    "\n",
    "---\n"
   ]
  },
  {
   "cell_type": "markdown",
   "metadata": {
    "id": "w4LitZ1SEC0d"
   },
   "source": [
    "Este ejercicio te permitirá empezar a ejecutar tu propio código."
   ]
  },
  {
   "cell_type": "code",
   "execution_count": 1,
   "metadata": {
    "id": "DkEmre0PF5hH"
   },
   "outputs": [
    {
     "name": "stdin",
     "output_type": "stream",
     "text": [
      "Ingrese la medida del lado del cuadrado:  4.5\n"
     ]
    },
    {
     "name": "stdout",
     "output_type": "stream",
     "text": [
      "La superficie del cuadrado es \n",
      "20.25\n"
     ]
    }
   ],
   "source": [
    "#Ejercicio\n",
    "\n",
    "##Calculo de la superficie de un cuadrado conociendo uno de sus lados\n",
    "\n",
    "##lado = input(\"Ingrese la medida del lado del cuadrado: \")\n",
    "##lado = int(lado)\n",
    "lado = float(input(\"Ingrese la medida del lado del cuadrado: \"))\n",
    "superficie = lado * lado\n",
    "print(\"La superficie del cuadrado es \")\n",
    "print (superficie)"
   ]
  },
  {
   "cell_type": "code",
   "execution_count": 6,
   "metadata": {
    "id": "fgT6z12iGynx"
   },
   "outputs": [
    {
     "name": "stdout",
     "output_type": "stream",
     "text": [
      "Suma: 15, Resta: 5, Multiplicación: 50, División: 2.0\n"
     ]
    }
   ],
   "source": [
    "# Ejercicio: Asigna dos números a variables y realiza las operaciones básicas (suma, resta, multiplicación y división).\n",
    "num1 = 10\n",
    "num2 = 5\n",
    "suma = num1 + num2\n",
    "resta = num1 - num2\n",
    "multiplicacion = num1 * num2\n",
    "division = num1 / num2\n",
    "\n",
    "print(f\"Suma: {suma}, Resta: {resta}, Multiplicación: {multiplicacion}, División: {division}\")\n"
   ]
  },
  {
   "cell_type": "code",
   "execution_count": 7,
   "metadata": {
    "id": "8GLu5-SfIUf0"
   },
   "outputs": [
    {
     "name": "stdout",
     "output_type": "stream",
     "text": [
      "Nuevo valor de num: 9\n"
     ]
    }
   ],
   "source": [
    "# Ejercicio: Asigna un número a una variable y utiliza operadores de asignación para incrementar y decrementar su valor.\n",
    "num = 8\n",
    "num += 3  # Incrementa en 3\n",
    "num -= 2  # Decrementa en 2\n",
    "\n",
    "print(f\"Nuevo valor de num: {num}\")\n"
   ]
  },
  {
   "cell_type": "code",
   "execution_count": 8,
   "metadata": {
    "id": "pJwFaxeNT9sV"
   },
   "outputs": [
    {
     "name": "stdout",
     "output_type": "stream",
     "text": [
      "Concatenación: Hola Mundo\n"
     ]
    }
   ],
   "source": [
    "# Ejercicio: Crea dos variables de tipo string y realiza la concatenación.\n",
    "cadena1 = \"Hola\"\n",
    "cadena2 = \"Mundo\"\n",
    "resultado = cadena1 + \" \" + cadena2\n",
    "\n",
    "print(f\"Concatenación: {resultado}\")\n"
   ]
  },
  {
   "cell_type": "code",
   "execution_count": 9,
   "metadata": {
    "id": "JWrY7XEmUFxv",
    "scrolled": true
   },
   "outputs": [
    {
     "name": "stdout",
     "output_type": "stream",
     "text": [
      "AND: False, OR: True, NOT: False\n"
     ]
    }
   ],
   "source": [
    "# Ejercicio: Asigna dos valores booleanos y realiza operaciones lógicas (AND, OR, NOT).\n",
    "bool1 = True\n",
    "bool2 = False\n",
    "resultado_and = bool1 and bool2\n",
    "resultado_or = bool1 or bool2\n",
    "resultado_not = not bool1\n",
    "\n",
    "print(f\"AND: {resultado_and}, OR: {resultado_or}, NOT: {resultado_not}\")\n"
   ]
  },
  {
   "cell_type": "code",
   "execution_count": 11,
   "metadata": {
    "id": "-MidLpvjUHLC"
   },
   "outputs": [
    {
     "name": "stdout",
     "output_type": "stream",
     "text": [
      "Redondeo: 3, Potencia: 17.471255712810116\n"
     ]
    }
   ],
   "source": [
    "# Ejercicio: Asigna dos números decimales y realiza operaciones de redondeo y potencia.\n",
    "decimal1 = 3.14\n",
    "decimal2 = 2.5\n",
    "redondeo = round(decimal1)\n",
    "potencia = decimal1 ** decimal2\n",
    "\n",
    "print(f\"Redondeo: {redondeo}, Potencia: {potencia}\")\n"
   ]
  },
  {
   "cell_type": "code",
   "execution_count": 12,
   "metadata": {
    "id": "Dth41woMU64n"
   },
   "outputs": [
    {
     "name": "stdout",
     "output_type": "stream",
     "text": [
      "Concatenación: [1, 2, 3, 4, 5, 6], Repetición: [1, 2, 3, 1, 2, 3]\n"
     ]
    }
   ],
   "source": [
    "# Ejercicio: Crea dos listas y realiza operaciones de concatenación y repetición.\n",
    "lista1 = [1, 2, 3]\n",
    "lista2 = [4, 5, 6]\n",
    "concatenacion = lista1 + lista2\n",
    "repeticion = lista1 * 2\n",
    "\n",
    "print(f\"Concatenación: {concatenacion}, Repetición: {repeticion}\")\n"
   ]
  },
  {
   "cell_type": "code",
   "execution_count": 13,
   "metadata": {
    "id": "mie3eAh6VBA2"
   },
   "outputs": [
    {
     "name": "stdout",
     "output_type": "stream",
     "text": [
      "Mayor: True, Menor: True, Igual: True\n"
     ]
    }
   ],
   "source": [
    "# Ejercicio: Asigna un número entero e implementa operadores de comparación (<, >, ==).\n",
    "entero = 15\n",
    "es_mayor = entero > 10\n",
    "es_menor = entero < 20\n",
    "es_igual = entero == 15\n",
    "\n",
    "print(f\"Mayor: {es_mayor}, Menor: {es_menor}, Igual: {es_igual}\")\n"
   ]
  },
  {
   "cell_type": "code",
   "execution_count": 14,
   "metadata": {
    "id": "ZHWfW5zLVEFK"
   },
   "outputs": [
    {
     "name": "stdout",
     "output_type": "stream",
     "text": [
      "Módulo: 4, División Entera: 3\n"
     ]
    }
   ],
   "source": [
    "# Ejercicio: Asigna dos números enteros y utiliza operadores módulo y de división entera.\n",
    "num_entero1 = 25\n",
    "num_entero2 = 7\n",
    "modulo = num_entero1 % num_entero2\n",
    "division_entera = num_entero1 // num_entero2\n",
    "\n",
    "print(f\"Módulo: {modulo}, División Entera: {division_entera}\")\n"
   ]
  },
  {
   "cell_type": "code",
   "execution_count": 15,
   "metadata": {
    "id": "eKacgJ4pVG9R"
   },
   "outputs": [
    {
     "name": "stdout",
     "output_type": "stream",
     "text": [
      "Concatenación de Tuplas: (1, 2, 3, 4, 5, 6), Repetición de Tupla: (1, 2, 3, 1, 2, 3)\n"
     ]
    }
   ],
   "source": [
    "# Ejercicio: Crea dos tuplas y realiza operaciones de concatenación y repetición.\n",
    "tupla1 = (1, 2, 3)\n",
    "tupla2 = (4, 5, 6)\n",
    "concatenacion_tuplas = tupla1 + tupla2\n",
    "repeticion_tupla = tupla1 * 2\n",
    "\n",
    "print(f\"Concatenación de Tuplas: {concatenacion_tuplas}, Repetición de Tupla: {repeticion_tupla}\")\n"
   ]
  },
  {
   "cell_type": "code",
   "execution_count": 16,
   "metadata": {
    "id": "DB42cTegUH_H"
   },
   "outputs": [
    {
     "name": "stdout",
     "output_type": "stream",
     "text": [
      "Resultado Mixto: 35.0\n"
     ]
    }
   ],
   "source": [
    "# Ejercicio: Realiza operaciones aritméticas con variables de diferentes tipos.\n",
    "entero_mixto = 10\n",
    "decimal_mixto = 3.5\n",
    "resultado_mixto = entero_mixto * decimal_mixto\n",
    "\n",
    "print(f\"Resultado Mixto: {resultado_mixto}\")\n"
   ]
  },
  {
   "cell_type": "markdown",
   "metadata": {
    "id": "8KeC1hDJVjMz"
   },
   "source": [
    "**Problemas**"
   ]
  },
  {
   "cell_type": "markdown",
   "metadata": {
    "id": "vDX7_py6Vl9G"
   },
   "source": [
    "Calcular el área de un círculo con un radio dado. Utiliza la fórmula $Area = \\pi\\times{radio}^2$"
   ]
  },
  {
   "cell_type": "code",
   "execution_count": 3,
   "metadata": {
    "id": "8KuMfIS_Y8CW"
   },
   "outputs": [
    {
     "name": "stdin",
     "output_type": "stream",
     "text": [
      "Ingrese el radio:  8\n"
     ]
    },
    {
     "name": "stdout",
     "output_type": "stream",
     "text": [
      "El área del circulo es: 201.06192982974676\n"
     ]
    }
   ],
   "source": [
    "from math import pi\n",
    "radio = float(input('Ingrese el radio: '))\n",
    "print(f'El área del circulo es: {pi * radio**2}')"
   ]
  },
  {
   "cell_type": "markdown",
   "metadata": {
    "id": "TDj1haZhXebS"
   },
   "source": [
    "Convertir una temperatura en grados Celsius a Fahrenheit $F=\\frac{9}{5}\\times C+32$"
   ]
  },
  {
   "cell_type": "code",
   "execution_count": 19,
   "metadata": {
    "id": "oZC3Zk5vY-8z"
   },
   "outputs": [
    {
     "name": "stdin",
     "output_type": "stream",
     "text": [
      "Ingrese una temperatura en grados celsius:  100\n"
     ]
    },
    {
     "name": "stdout",
     "output_type": "stream",
     "text": [
      "La temperatura en grados Fahrenheit es: 212.0\n"
     ]
    }
   ],
   "source": [
    "temperatura = float(input('Ingrese una temperatura en grados celsius: '))\n",
    "print(f'La temperatura en grados Fahrenheit es: {temperatura * 9/5 + 32}')"
   ]
  },
  {
   "cell_type": "markdown",
   "metadata": {
    "id": "vgG0mx4iXfH0"
   },
   "source": [
    "Crear una calculadora de propina. Dado el total de la cuenta y el porcentaje de propina deseado, calcular el monto de propina y el total final."
   ]
  },
  {
   "cell_type": "code",
   "execution_count": 21,
   "metadata": {
    "id": "zRwfboarY_kG"
   },
   "outputs": [
    {
     "name": "stdin",
     "output_type": "stream",
     "text": [
      "Ingrese el total de la cuenta:  1000\n",
      "Ingrese el porcentaje de propina deseado: 1\n"
     ]
    },
    {
     "name": "stdout",
     "output_type": "stream",
     "text": [
      "El total final es: 1010.0 pues se dan 10.0 de propina\n"
     ]
    }
   ],
   "source": [
    "total = float(input('Ingrese el total de la cuenta: '))\n",
    "while (total < 0):\n",
    "    total = float(input('Total inválido. Intente de nuevo: '))\n",
    "propina = float(input('Ingrese el porcentaje de propina deseado:'))\n",
    "while (propina < 0 or propina > 100):\n",
    "  propina = float(input('Porcentaje inválido. Ingrese el porcentaje de propina deseado:'))\n",
    "print(f'El total final es: {total *(1+  propina/100)} pues se dan {total * propina/100} de propina')"
   ]
  },
  {
   "cell_type": "markdown",
   "metadata": {
    "id": "r9D2hDFNXiqY"
   },
   "source": [
    "Calcular el precio final de un producto después de aplicar un descuento. Se proporcionan el precio original y el porcentaje de descuento."
   ]
  },
  {
   "cell_type": "code",
   "execution_count": 22,
   "metadata": {
    "id": "CBkarqF3ZAZN"
   },
   "outputs": [
    {
     "name": "stdin",
     "output_type": "stream",
     "text": [
      "Ingrese el precio original:  10000\n",
      "Ingrese el porcentaje de descuento deseado: 1\n"
     ]
    },
    {
     "name": "stdout",
     "output_type": "stream",
     "text": [
      "El precio final es: 9900.0 pues se dan 100.0 de decuento\n"
     ]
    }
   ],
   "source": [
    "total = float(input('Ingrese el precio original: '))\n",
    "while (total < 0):\n",
    "    total = float(input('Precio inválido. Intente de nuevo: '))\n",
    "propina = float(input('Ingrese el porcentaje de descuento deseado:'))\n",
    "while (propina < 0 or propina > 100):\n",
    "  propina = float(input('Porcentaje inválido. Ingrese el porcentaje de descuent deseado:'))\n",
    "print(f'El precio final es: {total *(1 -  propina/100)} pues se dan {total * propina/100} de decuento')"
   ]
  },
  {
   "cell_type": "markdown",
   "metadata": {
    "id": "-jj-Kvp3XmBf"
   },
   "source": [
    "Determinar la edad de una persona dados su año de nacimiento y el año actual."
   ]
  },
  {
   "cell_type": "code",
   "execution_count": 23,
   "metadata": {
    "id": "lUoGJ7iZY6b-"
   },
   "outputs": [
    {
     "name": "stdin",
     "output_type": "stream",
     "text": [
      "Ingrese el año de su nacimiento 2002\n",
      "Ingrese el año actual 2024\n"
     ]
    },
    {
     "name": "stdout",
     "output_type": "stream",
     "text": [
      "Su edad es 22\n"
     ]
    }
   ],
   "source": [
    "nacimiento = int(input('Ingrese el año de su nacimiento'))\n",
    "actual = int(input('Ingrese el año actual'))\n",
    "print(f'Su edad es {actual-nacimiento}')"
   ]
  },
  {
   "cell_type": "markdown",
   "metadata": {
    "id": "Mpi7actnXpnK"
   },
   "source": [
    "Calcular la velocidad media de un objeto. Se dan la distancia recorrida y el tiempo empleado."
   ]
  },
  {
   "cell_type": "code",
   "execution_count": 6,
   "metadata": {
    "id": "6S3_0SMOZBb2"
   },
   "outputs": [
    {
     "name": "stdin",
     "output_type": "stream",
     "text": [
      "La distancia que recorrió fue:  8\n",
      "El tiempo que demoró fue:  10\n"
     ]
    },
    {
     "name": "stdout",
     "output_type": "stream",
     "text": [
      "La velocidad media de su recorrido fue: 0.8\n"
     ]
    }
   ],
   "source": [
    "d = float(input('La distancia que recorrió fue: '))\n",
    "t = float(input('El tiempo que demoró fue: '))\n",
    "print(f'La velocidad media de su recorrido fue: {d/t}')"
   ]
  },
  {
   "cell_type": "markdown",
   "metadata": {
    "id": "Q5jLVQZ9Xw7o"
   },
   "source": [
    "Crear una calculadora de índice de masa corporal (IMC). Se proporciona el peso en kilogramos y la altura en metros."
   ]
  },
  {
   "cell_type": "code",
   "execution_count": 9,
   "metadata": {
    "id": "hVHB61aQZCRk"
   },
   "outputs": [
    {
     "name": "stdin",
     "output_type": "stream",
     "text": [
      "Coloque su peso aquí:  8\n",
      "Coloque su estatura aquí:  10\n"
     ]
    },
    {
     "name": "stdout",
     "output_type": "stream",
     "text": [
      "Su índice de masa corporal es 0.08 por lo que uu peso es bajo. Tenga cuidado\n"
     ]
    }
   ],
   "source": [
    "# Tenga en cuenta que el IMC = peso / estatura^2\n",
    "k = float(input('Coloque su peso aquí: '))\n",
    "m = float(input('Coloque su estatura aquí: '))\n",
    "IMC = k/(m**2)\n",
    "if (IMC < 18.5):\n",
    "    warning = 'uu peso es bajo. Tenga cuidado'\n",
    "if (IMC > 18.5 and IMC < 24.9):\n",
    "    warning = 'uu peso es normal. Felicitaciones'\n",
    "if (IMC > 24.9 and IMC < 29.9):\n",
    "    warning = 'usted tiene sobrepeso. Tenga cuidado'\n",
    "if (IMC > 29.9):\n",
    "    warning = 'usted está sufriendo de obesidad. Tenga cuidado'\n",
    "\n",
    "print(f'Su índice de masa corporal es {IMC} por lo que {warning}')"
   ]
  },
  {
   "cell_type": "markdown",
   "metadata": {
    "id": "KTuFdbS8X0VU"
   },
   "source": [
    "Calcular la suma de los primeros $n$ números pares. El valor de $n$ se proporciona como entrada."
   ]
  },
  {
   "cell_type": "code",
   "execution_count": 3,
   "metadata": {
    "id": "yKvPb8KIZC7d"
   },
   "outputs": [
    {
     "name": "stdin",
     "output_type": "stream",
     "text": [
      "Ingrese n:  10\n"
     ]
    },
    {
     "name": "stdout",
     "output_type": "stream",
     "text": [
      "La suma de los 10 primeros números es 110\n",
      "La suma de los 10 primeros números es 110\n"
     ]
    }
   ],
   "source": [
    "n = int(input('Ingrese n: '))\n",
    "print( f'La suma de los {n} primeros números es {sum(2* list(range(1,n+1)))}')\n",
    "# 2* list(range(1,n+1)) produce una concatenación de la lista consigo misma (i.e Cada elemento queda en la lista dos veces) y \n",
    "# al sumarlos es como si estuvieramos sumando los números pares (i + i = 2i | Todos los números pares)\n",
    "# Funny enough it also works in an easier way\n",
    "print( f'La suma de los {n} primeros números es {n * (n+1)}')"
   ]
  },
  {
   "cell_type": "markdown",
   "metadata": {
    "id": "2eQf6q0bYGJd"
   },
   "source": [
    "Calcular la raíz cuadrada de un número dado. Utiliza la función sqrt del módulo math"
   ]
  },
  {
   "cell_type": "code",
   "execution_count": 41,
   "metadata": {
    "id": "ffyRFQjjZDep"
   },
   "outputs": [
    {
     "name": "stdin",
     "output_type": "stream",
     "text": [
      "Ingrese un número: Para calcular la raíz cuadrada:  2\n"
     ]
    },
    {
     "data": {
      "text/plain": [
       "1.4142135623730951"
      ]
     },
     "execution_count": 41,
     "metadata": {},
     "output_type": "execute_result"
    }
   ],
   "source": [
    "from math import sqrt\n",
    "a = sqrt(float(input('Ingrese un número: Para calcular la raíz cuadrada: ')))\n",
    "a"
   ]
  },
  {
   "cell_type": "markdown",
   "metadata": {
    "id": "pH0HpsdKYQKo"
   },
   "source": [
    "Calcular el monto final después de ciertos años utilizando la fórmula del interés simple: $MF=Principal=(1+tasaInteres × tiempo)$"
   ]
  },
  {
   "cell_type": "code",
   "execution_count": 43,
   "metadata": {
    "id": "Ov9OsPZMYL3V"
   },
   "outputs": [
    {
     "name": "stdin",
     "output_type": "stream",
     "text": [
      "Años:  80\n",
      "Intéres:  0.2\n",
      "Inicial:  100\n"
     ]
    },
    {
     "name": "stdout",
     "output_type": "stream",
     "text": [
      "1700.0\n"
     ]
    }
   ],
   "source": [
    "Tiempo = int(input('Años: '))\n",
    "Interes = float(input('Intéres: '))\n",
    "Principal = float(input('Inicial: '))\n",
    "print(Principal * (1 + Interes * Tiempo))"
   ]
  }
 ],
 "metadata": {
  "colab": {
   "provenance": []
  },
  "kaggle": {
   "accelerator": "none",
   "dataSources": [
    {
     "databundleVersionId": 26502,
     "sourceId": 3136,
     "sourceType": "competition"
    }
   ],
   "isGpuEnabled": false,
   "isInternetEnabled": false,
   "language": "python",
   "sourceType": "notebook"
  },
  "kernelspec": {
   "display_name": "Python 3 (ipykernel)",
   "language": "python",
   "name": "python3"
  },
  "language_info": {
   "codemirror_mode": {
    "name": "ipython",
    "version": 3
   },
   "file_extension": ".py",
   "mimetype": "text/x-python",
   "name": "python",
   "nbconvert_exporter": "python",
   "pygments_lexer": "ipython3",
   "version": "3.12.4"
  }
 },
 "nbformat": 4,
 "nbformat_minor": 4
}
